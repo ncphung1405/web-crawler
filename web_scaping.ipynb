{
  "nbformat": 4,
  "nbformat_minor": 0,
  "metadata": {
    "colab": {
      "name": "web_scaping.ipynb",
      "provenance": [],
      "include_colab_link": true
    },
    "kernelspec": {
      "name": "python3",
      "display_name": "Python 3"
    }
  },
  "cells": [
    {
      "cell_type": "markdown",
      "metadata": {
        "id": "view-in-github",
        "colab_type": "text"
      },
      "source": [
        "<a href=\"https://colab.research.google.com/github/ncphung1405/web-crawler/blob/master/web_scaping.ipynb\" target=\"_parent\"><img src=\"https://colab.research.google.com/assets/colab-badge.svg\" alt=\"Open In Colab\"/></a>"
      ]
    },
    {
      "cell_type": "code",
      "metadata": {
        "id": "I_S33rZrQPwj"
      },
      "source": [
        "import re\r\n",
        "import requests\r\n",
        "from bs4 import BeautifulSoup"
      ],
      "execution_count": null,
      "outputs": []
    },
    {
      "cell_type": "code",
      "metadata": {
        "id": "vOyv0lmcRBRc"
      },
      "source": [
        "link = requests.get('https://vnexpress.net/')"
      ],
      "execution_count": null,
      "outputs": []
    },
    {
      "cell_type": "code",
      "metadata": {
        "id": "XFq9cB7lRSjA"
      },
      "source": [
        "link_soup = BeautifulSoup(link.text,'html.parser')"
      ],
      "execution_count": null,
      "outputs": []
    },
    {
      "cell_type": "code",
      "metadata": {
        "id": "KbqIDr3-SQYI"
      },
      "source": [
        "results = link_soup('a', attrs={'href':True})"
      ],
      "execution_count": null,
      "outputs": []
    },
    {
      "cell_type": "code",
      "metadata": {
        "colab": {
          "base_uri": "https://localhost:8080/"
        },
        "id": "TQsXv8ZJSrtO",
        "outputId": "7dd21f9f-cfe2-422e-eda2-43ba95e31879"
      },
      "source": [
        "results[0:10]"
      ],
      "execution_count": null,
      "outputs": [
        {
          "output_type": "execute_result",
          "data": {
            "text/plain": [
              "[<a class=\"all-menu all-menu-tablet\" href=\"javascript:;\"><span class=\"hamburger\"></span></a>,\n",
              " <a class=\"logo\" data-medium=\"Logo\" href=\"/\" onclick=\"trackingLogoHome('logo-header', this.href)\" style=\"position: relative;\" title=\"VnExpress - Báo tiếng Việt nhiều người xem nhất\">\n",
              " <img class=\"parten-noel\" src=\"https://s1cdn.vnecdn.net/vnexpress/restruct/i/v372/v2_2019/pc/graphics/parten-tet.png\" style=\"width: 130px; position: absolute; top: -8px; left: 25px;\"/>\n",
              " <img alt=\"VnExpress - Bao tieng Viet nhieu nguoi xem nhat\" src=\"https://s1cdn.vnecdn.net/vnexpress/restruct/i/v372/v2_2019/pc/graphics/logo.svg\"/>\n",
              " </a>,\n",
              " <a class=\"btn24hqua \" href=\"/tin-tuc-24h\" title=\"Mới nhất\"><svg class=\"ic ic-24h\"><use xlink:href=\"#time\"></use></svg>Mới nhất</a>,\n",
              " <a class=\"evne\" href=\"https://e.vnexpress.net/\" title=\"VnExpress International\"><svg class=\"ic ic-evne\"><use xlink:href=\"#letter-E\"></use></svg>International</a>,\n",
              " <a class=\"flexbox\" data-medium=\"Menu-Home\" href=\"/\" onclick=\"trackingLogoHome('logo-header-menu', this.href)\" title=\"Trang chủ\">\n",
              " <svg class=\"ic ic-home\"><use xlink:href=\"#Home\"></use></svg>\n",
              " <svg class=\"ic ic-evne\"><use xlink:href=\"#letter-E\"></use></svg>\n",
              " </a>,\n",
              " <a data-medium=\"Menu-MoiNhat\" href=\"/tin-tuc-24h\" title=\"Mới nhất\">Mới nhất</a>,\n",
              " <a data-medium=\"Menu-ThoiSu\" href=\"/thoi-su\" title=\"Thời sự\">\n",
              " Thời sự </a>,\n",
              " <a data-medium=\"Menu-GocNhin\" href=\"/goc-nhin\" title=\"Góc nhìn\">\n",
              " Góc nhìn </a>,\n",
              " <a data-medium=\"Menu-TheGioi\" href=\"/the-gioi\" title=\"Thế giới\">\n",
              " Thế giới </a>,\n",
              " <a data-medium=\"Menu-Video\" href=\"https://video.vnexpress.net\" title=\"Video\">\n",
              " Video </a>]"
            ]
          },
          "metadata": {
            "tags": []
          },
          "execution_count": 5
        }
      ]
    },
    {
      "cell_type": "code",
      "metadata": {
        "id": "7cCOpmQATLVp"
      },
      "source": [
        "a= set()\r\n",
        "for i in results:\r\n",
        "    a.add(i['href'])"
      ],
      "execution_count": null,
      "outputs": []
    },
    {
      "cell_type": "code",
      "metadata": {
        "colab": {
          "base_uri": "https://localhost:8080/"
        },
        "id": "Q0qST4BTUjev",
        "outputId": "573d44b4-cfba-4114-999d-55e51daee521"
      },
      "source": [
        "list(a)[0:20]"
      ],
      "execution_count": null,
      "outputs": [
        {
          "output_type": "execute_result",
          "data": {
            "text/plain": [
              "['https://vnexpress.net/hai-cum-dich-hinh-thanh-o-quang-ninh-4228712.html#box_comment_vne',\n",
              " '/du-lich',\n",
              " '/y-kien',\n",
              " 'https://vnexpress.net/la-bua-vaccine-4228093.html',\n",
              " 'https://vnexpress.net/biden-nhan-qua-vo-gia-tu-su-im-lang-cua-trump-4228185.html#box_comment_vne',\n",
              " 'https://vnexpress.net/chau-au-canh-bao-nha-dau-tu-bitcoin-co-the-mat-tat-ca-4228767.html',\n",
              " '/so-hoa',\n",
              " 'https://vnexpress.net/2-000-cong-nhan-poyun-dang-cach-ly-ra-sao-4228733.html',\n",
              " 'https://video.vnexpress.net/tin-tuc/thoi-su/su-nguy-hiem-cua-bien-the-ncov-4228699.html#box_comment_vne',\n",
              " '/',\n",
              " '/khoa-hoc',\n",
              " 'https://vnexpress.net/them-34-ca-nhiem-o-hai-duong-quang-ninh-4228748.html',\n",
              " 'https://vnexpress.net/dang-van-lam-gia-nhap-cerezo-osaka-4228796.html',\n",
              " 'https://vnexpress.net/biden-nhan-qua-vo-gia-tu-su-im-lang-cua-trump-4228185.html',\n",
              " '/tam-su',\n",
              " 'https://vnexpress.net/gia-lai-phat-hien-hai-ca-nghi-nhiem-ncov-4228755.html#box_comment_vne',\n",
              " 'https://vnexpress.net/bi-thu-hai-duong-vung-phong-toa-chi-linh-duoc-giu-vung-4228677.html#box_comment_vne',\n",
              " 'https://vnexpress.net/dai-hoi-xiii-tiep-tuc-cong-tac-nhan-su-4228681.html#box_comment_vne',\n",
              " 'https://vnexpress.net/phun-khu-khuan-nhieu-noi-o-quang-ninh-hai-phong-4228717.html',\n",
              " 'https://vnexpress.net/phong-toa-hai-khu-dan-cu-o-van-don-4228799.html']"
            ]
          },
          "metadata": {
            "tags": []
          },
          "execution_count": 7
        }
      ]
    },
    {
      "cell_type": "code",
      "metadata": {
        "id": "0Y9yNa-oYFTm"
      },
      "source": [
        "mau = '^(http).*(html)$'\r\n",
        "url = 'https://vnexpress.net/la-bua-vaccine-4228093.html'\r\n",
        "url_2 = 'https://vnexpress.net/phong-toa-hai-khu-dan-cu-o-van-don-4228799.html'"
      ],
      "execution_count": null,
      "outputs": []
    },
    {
      "cell_type": "code",
      "metadata": {
        "colab": {
          "base_uri": "https://localhost:8080/"
        },
        "id": "xHPutFcCYu-G",
        "outputId": "ed45638d-1f24-4842-b689-08990aa30a0c"
      },
      "source": [
        "re.match(mau,url)"
      ],
      "execution_count": null,
      "outputs": [
        {
          "output_type": "execute_result",
          "data": {
            "text/plain": [
              "<_sre.SRE_Match object; span=(0, 49), match='https://vnexpress.net/la-bua-vaccine-4228093.html>"
            ]
          },
          "metadata": {
            "tags": []
          },
          "execution_count": 42
        }
      ]
    },
    {
      "cell_type": "code",
      "metadata": {
        "colab": {
          "base_uri": "https://localhost:8080/"
        },
        "id": "i1aQRuLTZd7F",
        "outputId": "48cf6640-f951-40d9-bbcc-5bc7c32fd20d"
      },
      "source": [
        "re.match(mau,url_2)"
      ],
      "execution_count": null,
      "outputs": [
        {
          "output_type": "execute_result",
          "data": {
            "text/plain": [
              "<_sre.SRE_Match object; span=(0, 69), match='https://vnexpress.net/phong-toa-hai-khu-dan-cu-o->"
            ]
          },
          "metadata": {
            "tags": []
          },
          "execution_count": 41
        }
      ]
    },
    {
      "cell_type": "code",
      "metadata": {
        "id": "Rg8ILyweZnYl"
      },
      "source": [
        "url_tim_duoc = set()\r\n",
        "for i in results:\r\n",
        "    a = i['href']\r\n",
        "    mau = '^(http).*(html|epi)$'\r\n",
        "    mau2 = '^/.*(html|epi)$'\r\n",
        "    if re.match(mau, a):\r\n",
        "        url_tim_duoc.add(a)\r\n",
        "    else:\r\n",
        "        if re.match(mau2, a):\r\n",
        "            url_lien_quan = 'https://vnexpress.net/' + a\r\n",
        "            url_tim_duoc.add(url_lien_quan)"
      ],
      "execution_count": null,
      "outputs": []
    },
    {
      "cell_type": "code",
      "metadata": {
        "colab": {
          "base_uri": "https://localhost:8080/"
        },
        "id": "3L4cehD0aXML",
        "outputId": "3b722ba2-06e3-4357-a489-e2ec6cfb7ec6"
      },
      "source": [
        "list(url_tim_duoc)[0:10]"
      ],
      "execution_count": null,
      "outputs": [
        {
          "output_type": "execute_result",
          "data": {
            "text/plain": [
              "['https://vnexpress.net/la-bua-vaccine-4228093.html',\n",
              " 'https://vnexpress.net/chau-au-canh-bao-nha-dau-tu-bitcoin-co-the-mat-tat-ca-4228767.html',\n",
              " 'https://vnexpress.net/2-000-cong-nhan-poyun-dang-cach-ly-ra-sao-4228733.html',\n",
              " 'https://vnexpress.net/them-34-ca-nhiem-o-hai-duong-quang-ninh-4228748.html',\n",
              " 'https://vnexpress.net/biden-nhan-qua-vo-gia-tu-su-im-lang-cua-trump-4228185.html',\n",
              " 'https://vnexpress.net/dang-van-lam-gia-nhap-cerezo-osaka-4228796.html',\n",
              " 'https://vnexpress.net/phun-khu-khuan-nhieu-noi-o-quang-ninh-hai-phong-4228717.html',\n",
              " 'https://vnexpress.net/phong-toa-hai-khu-dan-cu-o-van-don-4228799.html',\n",
              " 'https://vnexpress.net/dai-hoi-xiii-tiep-tuc-cong-tac-nhan-su-4228681.html',\n",
              " 'https://vnexpress.net/eu-phe-duyet-vaccine-astrazeneca-4228751.html']"
            ]
          },
          "metadata": {
            "tags": []
          },
          "execution_count": 22
        }
      ]
    }
  ]
}